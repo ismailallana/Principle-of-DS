{
 "cells": [
  {
   "cell_type": "markdown",
   "metadata": {},
   "source": [
    "# Data Querying and Summarising with SQL\n",
    "\n",
    "This week is about working with an existing database.\n",
    "\n",
    "The following tutorial assumes a bit of background on SQL, in particular on its core commands \n",
    "to create new tables and to retrieve data:\n",
    "\n",
    " SQL Command   |  Meaning\n",
    " --------------|------------\n",
    " SELECT COUNT(\\*) FROM *T*   | count how many tuples are stored in table *T*\n",
    " SELECT \\* FROM *T*          | list the content of table *T*\n",
    " SELECT \\* FROM *T* LIMIT *n* | only list  *n* tuples from a table\n",
    " SELECT \\* FROM *T* ORDER BY *a* | order the result by attribute *a* (in ascending order; add DESC for descending order)\n",
    "\n",
    "You can learn more background on these SQL commands in the [Python&SQL tutorial part in Grok][1] (Section 16 onwards).\n",
    "\n",
    "  [1]: https://groklearning.com/course/usyd-comp5310-2016-s1/"
   ]
  },
  {
   "cell_type": "markdown",
   "metadata": {},
   "source": [
    "### SQL: Joins\n",
    "\n",
    "If you need to combine data from multiple tables, you can **join** those as follows.\n",
    "\n",
    "**Example:** We would like to find out the details on when and where the temperature values were recorded.\n",
    "\n",
    "We first can have a look at the <tt>Measurement</tt> table:\n",
    "<pre>\n",
    "SELECT station, value, date\n",
    "  FROM Measurement\n",
    " WHERE sensor = 'temp'; \n",
    "</pre>\n",
    "\n",
    "If you execute the SQL query above, you see that the temperature was measured at two different stations over the course of two years. But we cannot see the station  details directly, just an internal ID that refers to the <tt>Station</tt> table.\n",
    "\n",
    "You could now look into that table too with a second query and check for the two different stations mentioned above - but that is tedious and error prone...\n",
    "<pre>\n",
    "SELECT * FROM Station;\n",
    "</pre>\n",
    "\n",
    "The correct way is to use this *foreign key* attribute <tt>station</tt> from the <tt>Measurment</tt> table to **join** both the <tt>Measurment</tt> and the <tt>station</tt> tables and retreive the macthing values in just one query:\n",
    "\n",
    "<pre>\n",
    "SELECT  value, date, SiteName\n",
    "  FROM Measurement JOIN station USING (station)\n",
    "  WHERE sensor = 'temp';\n",
    "</pre>\n"
   ]
  },
  {
   "cell_type": "markdown",
   "metadata": {},
   "source": [
    "### Working with DATE values \n",
    "\n",
    "For most data types in SQL - notably integers, strings, floating point numbers - the standard comparison and numerical operations apply.\n",
    "\n",
    "The handling of <tt>DATE</tt> is a bit delicate though. You can compare them using date strings, but the standard date format can be configured differently in database systems than you expect (eg. 'yyyy-mm-dd' vs. 'mm/dd/yyyy' etc), so that these kind of codes are difficult to port.\n",
    "\n",
    "<pre>\n",
    "SELECT *\n",
    "  FROM Measurement\n",
    " WHERE date = '2005-04-29';\n",
    "SELECT *\n",
    "  FROM Measurement\n",
    " WHERE date = '29/04/2005'; \n",
    "</pre>\n",
    "\n",
    "The SQL **EXTRACT()** function provides a convenient way to access any part of a date value. For example, **extract(year from datevar)** allows to extract the year component of a given date cariable *datevar*.\n",
    "For a full description of all components available to *extract()*, see [the PostgreSQL online documentation][1].\n",
    "\n",
    "**Example:**\n",
    "<pre>\n",
    "SELECT *\n",
    "  FROM Measurement\n",
    " WHERE extract(year from date) = 2004;\n",
    "</pre>\n",
    "\n",
    " [1]:[http://www.postgresql.org/docs/current/static/functions-datetime.html#FUNCTIONS-DATETIME-EXTRACT]"
   ]
  },
  {
   "cell_type": "markdown",
   "metadata": {},
   "source": [
    "### SQL: Aggregation Functions\n",
    "\n",
    "SQL supports multiple aggregation functions.\n",
    "\n",
    " SQL Aggregate Function | Meaning\n",
    " --- | ---\n",
    " COUNT(\\*)   | count all tuples in a table\n",
    " COUNT(attr) | count the tuples with a non-NULL value in attr\n",
    " MIN(attr)   | determine the minimum value of attr (ignores NULL)\n",
    " MAX(attr)   | determine the maximum value of attr (ignores NULL)\n",
    " AVG(attr)   | determine the average value of numeric attr (arithmetic mean) (ignores NULL)\n",
    " SUM(attr)   | calculates the sum of a numeric attr (ignores NULL)\n",
    "\n",
    "\n",
    "\n",
    "Try some out:\n",
    "\n",
    "\n",
    "**Question:** In which range (minimum to maximum) did the temp sensor do the measurements?\n",
    "<pre>\n",
    "SELECT MIN(value), MAX(value) FROM Measurement WHERE sensor = 'temp';  \n",
    "</pre>\n",
    "\n"
   ]
  },
  {
   "cell_type": "markdown",
   "metadata": {},
   "source": [
    "### SQL Statistical Aggregates\n",
    "\n",
    "SQL also supports some statistical aggregates. The syntax is a bit more complex, as they work on ordered sets. This order has to be first specified with an *WITHIN GROUP* clause in SQL so that aggregates like 'Median' or 'Percentile' make sense.\n",
    "\n",
    "Statistics Aggregate | Meaning\n",
    "---|---\n",
    "MODE()  WITHIN GROUP (ORDER BY *attr*) |  mode function over *attr*\n",
    "PERCENTILE_DISC(0.5) WITHIN GROUP (ORDER BY *attr*) | median of the *attr* values\n",
    "PERCENTILE_DISC(*p*) WITHIN GROUP (ORDER BY *attr*) | *p* percentile of the *attr* values\n",
    "\n",
    "**Example:** Statistical analysis over the temperature values of *all* measurements.\n",
    "\n",
    "<pre>\n",
    "SELECT COUNT(value),\n",
    "       MIN(value),\n",
    "       Max(value), \n",
    "       MAX(value) - MIN(value)                           AS Range, \n",
    "       AVG(value)                                            AS Mean,\n",
    "       MODE()  WITHIN GROUP (ORDER BY value)                 AS Mode, \n",
    "       PERCENTILE_DISC(0.5) WITHIN GROUP (ORDER BY value)    AS Median,\n",
    "       PERCENTILE_DISC(0.25) WITHIN GROUP (ORDER BY value)   AS Percentile25, \n",
    "       PERCENTILE_DISC(0.75) WITHIN GROUP (ORDER BY value)   AS Percentile75,\n",
    "       PERCENTILE_DISC(0.75) WITHIN GROUP (ORDER BY value)\n",
    "       - PERCENTILE_DISC(0.25) WITHIN GROUP (ORDER BY value) AS IQR \n",
    "  FROM Measurement WHERE sensor='temp';\n",
    "</pre>"
   ]
  },
  {
   "cell_type": "markdown",
   "metadata": {},
   "source": [
    "## EXERCISE 1: Data Gathering from an SQL Database\n",
    "\n",
    "In this next exercise, we will be looking into how to retrieve data from an existing SQL database into a Python program for further analysis."
   ]
  },
  {
   "cell_type": "markdown",
   "metadata": {},
   "source": [
    "##  Data Loading and Exploring for Water Database\n",
    "\n",
    "### Step1: Loading Water DB\n",
    "\n",
    "The first step is to make sure that the water data set is fully loaded into our PostgreSQL database (week 4 completed)."
   ]
  },
  {
   "cell_type": "markdown",
   "metadata": {},
   "source": [
    "### Step 2: DB Connection and Query Execution\n",
    "\n",
    "In the first step, we are repeating the basic database connection phase from the tutorial in Week 4 and we execute a simple SQL query on that database.\n",
    "\n"
   ]
  },
  {
   "cell_type": "code",
   "execution_count": 4,
   "metadata": {
    "collapsed": true
   },
   "outputs": [],
   "source": [
    "\n",
    "import psycopg2\n",
    "\"\"\"\n",
    "Use one of them:\n",
    "\n",
    "1- pgconnect() function if you are using the  database on usyd server\n",
    "\n",
    "def pgconnect():\n",
    "    # please replace <your_unikey> and <your_SID> with your own details\n",
    "    YOUR_UNIKEY = 'your_unikey'\n",
    "    YOUR_PW     = 'your_SID'\n",
    "    try: \n",
    "        conn = psycopg2.connect(host='soit-db-pro-2.ucc.usyd.edu.au',\n",
    "                                database='y20s1c5310_'+YOUR_UNIKEY,\n",
    "                                user='y20s1c5310_'+YOUR_UNIKEY, \n",
    "                                password=YOUR_PW)\n",
    "        print('connected')\n",
    "    except Exception as e:\n",
    "        print(\"unable to connect to the database\")\n",
    "        print(e)\n",
    "    return conn\n",
    "\"\"\"\n",
    "\"\"\"2- pgconnect() function if you arer using the database on localhost\n",
    "\"\"\"\n",
    "def pgconnect():\n",
    "    # please replace with your own details\n",
    "    YOUR_DBNAME = 'comp5310'    \n",
    "    YOUR_USERNAME = 'postgres'##or your created user\n",
    "    YOUR_PW     = '277698'\n",
    "    try: \n",
    "        conn = psycopg2.connect(host='localhost',\n",
    "                                database=YOUR_DBNAME,\n",
    "                                user=YOUR_USERNAME, \n",
    "                                password=YOUR_PW)\n",
    "        print('connected')\n",
    "    except Exception as e:\n",
    "        print(\"unable to connect to the database\")\n",
    "        print(e)\n",
    "    return conn\n",
    "\n",
    "\n",
    "\n"
   ]
  },
  {
   "cell_type": "code",
   "execution_count": 5,
   "metadata": {
    "collapsed": true
   },
   "outputs": [],
   "source": [
    "import psycopg2.extras\n",
    "\n",
    "def pgquery( conn, sqlcmd, args, silent=False, returntype='tuple'):\n",
    "   \"\"\" utility function to execute some SQL query statement\n",
    "       it can take optional arguments (as a dictionary) to fill in for placeholder in the SQL\n",
    "       will return the complete query result as return value - or in case of error: None\n",
    "       error and transaction handling built-in (by using the 'with' clauses) \"\"\"\n",
    "   retval = None\n",
    "   with conn:\n",
    "      cursortype = None if returntype != 'dict' else psycopg2.extras.RealDictCursor     \n",
    "      with conn.cursor(cursor_factory=cursortype) as cur:\n",
    "         try:\n",
    "            if args is None:\n",
    "                cur.execute(sqlcmd)\n",
    "            else:\n",
    "                cur.execute(sqlcmd, args)\n",
    "            retval = cur.fetchall() # we use fetchall() as we expect only _small_ query results\n",
    "         except Exception as e:\n",
    "            if e.pgcode != None and not(silent):\n",
    "                print(\"db read error: \")\n",
    "                print(e)\n",
    "   return retval"
   ]
  },
  {
   "cell_type": "code",
   "execution_count": 10,
   "metadata": {},
   "outputs": [
    {
     "name": "stdout",
     "output_type": "stream",
     "text": [
      "connected\n",
      "SELECT * FROM Sensor\n",
      "[('levl', 'Level - Stream Water (Gauge Height)', 'meter'),\n",
      " ('temp', 'Water Temperature', 'celsius'),\n",
      " ('disc', 'Discharge Rate', 'ML/d'),\n",
      " ('disvol', 'Discharge Volume', 'ML'),\n",
      " ('ph', 'pH Value', 'pH'),\n",
      " ('ec25', 'Electrical Conductivity @25 C', 'us/cm'),\n",
      " ('ec', 'Electrical Conductivity (uncorrected)', 'us/cm')]\n",
      "SELECT * FROM Measurement WHERE date=%(date)s limit 3\n",
      "[('409204C', datetime.date(2005, 4, 29), 'levl', 0.692),\n",
      " ('409204C', datetime.date(2005, 4, 29), 'disvol', 2689.099),\n",
      " ('409204C', datetime.date(2005, 4, 29), 'disc', 2724.934)]\n"
     ]
    }
   ],
   "source": [
    "import pprint\n",
    "# connect to your database\n",
    "conn = pgconnect()\n",
    "    \n",
    "# prepare SQL statement\n",
    "query_stmt = \"SELECT * FROM Sensor\"\n",
    "\n",
    "# execute query and print result\n",
    "query_result = pgquery (conn, query_stmt, None)\n",
    "print(query_stmt)\n",
    "pprint.pprint(query_result)\n",
    "\n",
    "# prepare another SQL statement including placeholders\n",
    "query_stmt = \"SELECT * FROM Measurement WHERE date=%(date)s limit 3\"\n",
    "\n",
    "# define the 'date' parameter, execute query+parameters. and print result\n",
    "param = {'date' : '29/04/2005'}\n",
    "query_result = pgquery (conn, query_stmt, param)\n",
    "print(query_stmt)\n",
    "pprint.pprint(query_result)\n",
    "\n",
    "# cleanup\n",
    "conn.close()"
   ]
  },
  {
   "cell_type": "markdown",
   "metadata": {},
   "source": [
    "## YOUR TASK:\n",
    "\n",
    "Run the above SQL examples and then answer the following questions with an SQL query:\n",
    "\n",
    "1.  In which time period were all the measurement done?\n",
    "\n",
    "2.  At how many distinct Stations were used? Which Stations?\n",
    "\n",
    "3.  Do the same statistical analysis for temprature measurements as above, but for just measurements from the year 2004;\n"
   ]
  },
  {
   "cell_type": "code",
   "execution_count": 30,
   "metadata": {},
   "outputs": [
    {
     "name": "stdout",
     "output_type": "stream",
     "text": [
      "connected\n",
      "SELECT MIN(date), MAX(date) FROM Measurement;\n",
      "[(datetime.date(2004, 12, 31), datetime.date(2005, 5, 22))]\n",
      "SELECT COUNT(DISTINCT station)\n",
      "                FROM Measurement WHERE sensor = 'temp';\n",
      "[(2,)]\n",
      "SELECT COUNT(value),\n",
      "       MIN(value), \n",
      "       Max(value), \n",
      "       MAX(value) - MIN(value)                           AS Range,\n",
      "       AVG(value)                                            AS Mean,\n",
      "       MODE()  WITHIN GROUP (ORDER BY value)                 AS Mode, \n",
      "       PERCENTILE_DISC(0.5) WITHIN GROUP (ORDER BY value)    AS Median,\n",
      "       PERCENTILE_DISC(0.25) WITHIN GROUP (ORDER BY value)   AS Percentile25,\n",
      "       PERCENTILE_DISC(0.75) WITHIN GROUP (ORDER BY value)   AS Percentile75,\n",
      "       PERCENTILE_DISC(0.75) WITHIN GROUP (ORDER BY value)\n",
      "       - PERCENTILE_DISC(0.25) WITHIN GROUP (ORDER BY value) AS IQR \n",
      "  FROM Measurement M JOIN Station S ON (M.station = S.station)\n",
      "  WHERE sensor ='temp' AND extract(year from date) = %(year)s\n",
      "[(2,\n",
      "  21.072,\n",
      "  23.217,\n",
      "  2.1449999999999996,\n",
      "  22.1445,\n",
      "  21.072,\n",
      "  21.072,\n",
      "  21.072,\n",
      "  23.217,\n",
      "  2.1449999999999996)]\n"
     ]
    }
   ],
   "source": [
    "# TODO: replace the content of this cell with your SQL solution.\n",
    "\n",
    "# connect to your database\n",
    "conn = pgconnect()\n",
    "\n",
    "\n",
    "#1.  In which time period were all the measurement done?\n",
    "# prepare SQL statement\n",
    "query_stmt = \"SELECT MIN(date), MAX(date) FROM Measurement;\"\n",
    "# execute query and print result\n",
    "query_result = pgquery (conn, query_stmt, None)\n",
    "print(query_stmt)\n",
    "pprint.pprint(query_result)\n",
    "\n",
    "\n",
    "\n",
    "#2. How many distinct Stations the temperature were measured? \n",
    "query_stmt = \"\"\"SELECT COUNT(DISTINCT station)\n",
    "                FROM Measurement WHERE sensor = 'temp';\"\"\"\n",
    "query_result = pgquery (conn, query_stmt, None)\n",
    "print(query_stmt)\n",
    "pprint.pprint(query_result)\n",
    "\n",
    "\n",
    "\n",
    "# prepare SQL statement\n",
    "query_stmt = \"\"\"SELECT COUNT(value),\n",
    "       MIN(value), \n",
    "       Max(value), \n",
    "       MAX(value) - MIN(value)                           AS Range,\n",
    "       AVG(value)                                            AS Mean,\n",
    "       MODE()  WITHIN GROUP (ORDER BY value)                 AS Mode, \n",
    "       PERCENTILE_DISC(0.5) WITHIN GROUP (ORDER BY value)    AS Median,\n",
    "       PERCENTILE_DISC(0.25) WITHIN GROUP (ORDER BY value)   AS Percentile25,\n",
    "       PERCENTILE_DISC(0.75) WITHIN GROUP (ORDER BY value)   AS Percentile75,\n",
    "       PERCENTILE_DISC(0.75) WITHIN GROUP (ORDER BY value)\n",
    "       - PERCENTILE_DISC(0.25) WITHIN GROUP (ORDER BY value) AS IQR \n",
    "  FROM Measurement M JOIN Station S ON (M.station = S.station)\n",
    "  WHERE sensor ='temp' AND extract(year from date) = %(year)s\"\"\"\n",
    "\n",
    "# define the 'date' parameter, execute query+parameters. and print result\n",
    "param = {'year' : '2004'}\n",
    "# execute query and print result\n",
    "query_result = pgquery (conn, query_stmt, param)\n",
    "print(query_stmt)\n",
    "pprint.pprint(query_result)"
   ]
  },
  {
   "cell_type": "markdown",
   "metadata": {},
   "source": [
    "# STOP PLEASE. THE FOLLOWING IS FOR THE NEXT EXERCISE. THANKS."
   ]
  },
  {
   "cell_type": "markdown",
   "metadata": {},
   "source": [
    "## EXERCISE 2: Summarising Data with SQL\n",
    "\n",
    "In the next exercise, we look at the SQL language in a bit more depth."
   ]
  },
  {
   "cell_type": "markdown",
   "metadata": {},
   "source": [
    "#### SQL: Data Analysis with GROUP BY\n",
    "\n",
    "So far, our aggregate functions were always applied to all tuples in a table.\n",
    "Sometimes it is however very useful to group  rows into distinct partitions and then aggregate for each partition separatly. This is what the **GROUP BY** clause of SQL is doing.\n",
    "\n",
    "**Example 1:**\n",
    "How many measurements were done *per each sensor*?\n",
    "<pre>\n",
    "  SELECT sensor, COUNT(*)\n",
    "    FROM Measurement\n",
    "   GROUP BY sensor;\n",
    "</pre>\n",
    "\n",
    "**Example 2:**\n",
    "How many measurements of *distinct* stations were done *per each sensor*?\n",
    "<pre>\n",
    "SELECT sensor,  COUNT(DISTINCT station)\n",
    "  FROM Measurement\n",
    " GROUP BY sensor\n",
    " ORDER BY count DESC;\n",
    "</pre>\n",
    "<pre>\n",
    "SELECT station, sensor,  COUNT(*)\n",
    "  FROM Measurement \n",
    " GROUP BY station, sensor\n",
    " ORDER BY count DESC;\n",
    "</pre>\n",
    "\n",
    "**Example 3:**\n",
    "Determine some basic statistics about the measured temperature values *per each station*, including minimum temperature, maximum temperature, range of temperature values, mean, mode, 25th and 75th percentile:\n",
    "<pre>\n",
    "SELECT S.SiteName,\n",
    "       MIN(value), \n",
    "       Max(value), \n",
    "       MAX(value) - MIN(value)                           AS Range,\n",
    "       AVG(value)                                            AS Mean,\n",
    "       MODE()  WITHIN GROUP (ORDER BY value)                 AS Mode, \n",
    "       PERCENTILE_DISC(0.5) WITHIN GROUP (ORDER BY value)    AS Median,\n",
    "       PERCENTILE_DISC(0.25) WITHIN GROUP (ORDER BY value)   AS Percentile25,\n",
    "       PERCENTILE_DISC(0.75) WITHIN GROUP (ORDER BY value)   AS Percentile75,\n",
    "       PERCENTILE_DISC(0.75) WITHIN GROUP (ORDER BY value)\n",
    "       - PERCENTILE_DISC(0.25) WITHIN GROUP (ORDER BY value) AS IQR \n",
    "  FROM Measurement M JOIN Station S ON (M.station = S.station)\n",
    "  WHERE sensor ='temp' AND extract(year from date) = 2004\n",
    " GROUP BY S.siteName;\n",
    "</pre>"
   ]
  },
  {
   "cell_type": "markdown",
   "metadata": {},
   "source": [
    "#### YOUR TASK:\n",
    "\n",
    "Answer the following questions with SQL GROUP-BY queries:\n",
    "\n",
    "1. Determine the same per-station statistics as in the last grouping query just for measurements in 2005.\n",
    "\n",
    "2. Same than in (1), but just those values with at least 142 measurements.\n",
    "\n",
    "3. How many Measurement were done in 2004 per sensor?\n",
    "\n",
    "4. In which station were the most measurements done?\n",
    "\n",
    "5. Which sensors were used multiple times in different stations?\n"
   ]
  },
  {
   "cell_type": "code",
   "execution_count": 39,
   "metadata": {},
   "outputs": [
    {
     "name": "stdout",
     "output_type": "stream",
     "text": [
      "SELECT COUNT(value),\n",
      "       MIN(value), \n",
      "       Max(value), \n",
      "       MAX(value) - MIN(value)                           AS Range,\n",
      "       AVG(value)                                            AS Mean,\n",
      "       MODE()  WITHIN GROUP (ORDER BY value)                 AS Mode, \n",
      "       PERCENTILE_DISC(0.5) WITHIN GROUP (ORDER BY value)    AS Median,\n",
      "       PERCENTILE_DISC(0.25) WITHIN GROUP (ORDER BY value)   AS Percentile25,\n",
      "       PERCENTILE_DISC(0.75) WITHIN GROUP (ORDER BY value)   AS Percentile75,\n",
      "       PERCENTILE_DISC(0.75) WITHIN GROUP (ORDER BY value)\n",
      "       - PERCENTILE_DISC(0.25) WITHIN GROUP (ORDER BY value) AS IQR \n",
      "  FROM Measurement M JOIN Station S ON (M.station = S.station)\n",
      "  WHERE sensor ='temp' AND extract(year from date) = %(year)s\n",
      "GROUP BY S.siteName HAVING COUNT(*) >= 142;\n",
      "[(142,\n",
      "  13.757,\n",
      "  29.805,\n",
      "  16.048000000000002,\n",
      "  21.409816901408455,\n",
      "  13.757,\n",
      "  22.074,\n",
      "  17.867,\n",
      "  24.424,\n",
      "  6.556999999999999)]\n",
      "SELECT sensor, COUNT(*) \n",
      "                FROM Measurement\n",
      "                WHERE Extract(year from Date) = 2005 \n",
      "                GROUP BY sensor;\n",
      "[('disc', 410), ('disvol', 403), ('ec', 282), ('levl', 403), ('temp', 282)]\n",
      "SELECT siteName, COUNT(*) AS cnt\n",
      "            FROM Measurement JOIN station USING (station)\n",
      "            GROUP BY siteName\n",
      "            ORDER BY cnt DESC\n",
      "            LIMIT 1;\n",
      "[('Murray River @ Swan Hill', 715)]\n",
      "SELECT sensor, station, AVG(value), (MAX(value)-MIN(value)) AS Range\n",
      "                FROM Measurement \n",
      "                GROUP BY sensor, station\n",
      "                HAVING COUNT(*) >= 2;\n",
      "[('ec', '409017', 45.693602836879435, 27.900999999999996),\n",
      " ('disc', '219018', 0.21870312500000005, 1.731),\n",
      " ('temp', '409017', 20.218957446808513, 15.309000000000001),\n",
      " ('disc', '409017', 8000.46732394366, 12058.411999999998),\n",
      " ('levl', '409204C', 0.9073706293706291, 0.706),\n",
      " ('ec', '409204C', 53.095713286713305, 45.032000000000004),\n",
      " ('disvol', '409204C', 4057.068832167832, 4204.943),\n",
      " ('disvol', '219018', 0.20463934426229508, 1.996),\n",
      " ('levl', '409017', 2.3529503546099293, 1.3800000000000001),\n",
      " ('temp', '409204C', 21.422454545454546, 16.048000000000002),\n",
      " ('disvol', '409017', 8045.934453900703, 11789.634),\n",
      " ('levl', '219018', 0.020918032786885248, 0.46699999999999997),\n",
      " ('disc', '409204C', 4050.6039370629364, 4218.918000000001)]\n"
     ]
    }
   ],
   "source": [
    "# TODO: replace the content of this cell with your SQL solution\n",
    "\n",
    "\n",
    "#1 & 2. Same than in (1), but just those values with at least 142 measurements.\n",
    "\n",
    "# prepare SQL statement\n",
    "query_stmt = \"\"\"SELECT COUNT(value),\n",
    "       MIN(value), \n",
    "       Max(value), \n",
    "       MAX(value) - MIN(value)                           AS Range,\n",
    "       AVG(value)                                            AS Mean,\n",
    "       MODE()  WITHIN GROUP (ORDER BY value)                 AS Mode, \n",
    "       PERCENTILE_DISC(0.5) WITHIN GROUP (ORDER BY value)    AS Median,\n",
    "       PERCENTILE_DISC(0.25) WITHIN GROUP (ORDER BY value)   AS Percentile25,\n",
    "       PERCENTILE_DISC(0.75) WITHIN GROUP (ORDER BY value)   AS Percentile75,\n",
    "       PERCENTILE_DISC(0.75) WITHIN GROUP (ORDER BY value)\n",
    "       - PERCENTILE_DISC(0.25) WITHIN GROUP (ORDER BY value) AS IQR \n",
    "  FROM Measurement M JOIN Station S ON (M.station = S.station)\n",
    "  WHERE sensor ='temp' AND extract(year from date) = %(year)s\n",
    "GROUP BY S.siteName HAVING COUNT(*) >= 142;\"\"\"\n",
    "\n",
    "# define the 'date' parameter, execute query+parameters. and print result\n",
    "param = {'year' : '2005'}\n",
    "# execute query and print result\n",
    "query_result = pgquery (conn, query_stmt, param)\n",
    "print(query_stmt)\n",
    "pprint.pprint(query_result)\n",
    "\n",
    "\n",
    "#3.  How many Measurement were done in 2006 per sensor?\n",
    "query_stmt = \"\"\"SELECT sensor, COUNT(*) \n",
    "                FROM Measurement\n",
    "                WHERE Extract(year from Date) = 2005 \n",
    "                GROUP BY sensor;\"\"\"\n",
    "query_result = pgquery (conn, query_stmt, None)\n",
    "print(query_stmt)\n",
    "pprint.pprint(query_result)\n",
    "\n",
    "#4. In which station were the most measurements done?\n",
    "\n",
    "query_stmt = \"\"\"SELECT siteName, COUNT(*) AS cnt\n",
    "            FROM Measurement JOIN station USING (station)\n",
    "            GROUP BY siteName\n",
    "            ORDER BY cnt DESC\n",
    "            LIMIT 1;\"\"\"\n",
    "\n",
    "query_result = pgquery (conn, query_stmt, None)\n",
    "print(query_stmt)\n",
    "pprint.pprint(query_result)\n",
    "\n",
    "#5.  Which sensors were used multiple times in different stations?\n",
    "\n",
    "query_stmt = \"\"\"SELECT sensor, station, AVG(value), (MAX(value)-MIN(value)) AS Range\n",
    "                FROM Measurement \n",
    "                GROUP BY sensor, station\n",
    "                HAVING COUNT(*) >= 2;\"\"\"\n",
    "\n",
    "query_result = pgquery (conn, query_stmt, None)\n",
    "print(query_stmt)\n",
    "pprint.pprint(query_result)"
   ]
  },
  {
   "cell_type": "markdown",
   "metadata": {},
   "source": [
    "# STOP PLEASE. THE FOLLOWING IS FOR THE NEXT EXERCISE. THANKS."
   ]
  },
  {
   "cell_type": "markdown",
   "metadata": {},
   "source": [
    "## Gathering Data for Visualization"
   ]
  },
  {
   "cell_type": "markdown",
   "metadata": {},
   "source": [
    "Of course you do not need to just print the result of a database operation directly to the screen. Once it is in a variable in your Python program, you can work with it as with any other data which you have loaded, eg. from a CSV file before.\n",
    "\n",
    "**Note** that the data read from the postgresql database differs in its typing from the data we retrieved from CSV files so far using the CSV.DictReader:\n",
    " - SQL returns by default a **list of tuples**, while the data read with the CSV reader is a **list of dictionaries**.\n",
    " - The attributes in the tuples of the SQL result are **typed** according to the SQL schema, while the CSV data is **always strings** and hence needs to be type-converted first.\n",
    " \n",
    "The differences is the addressability of each component - in one case positionally, in the other as key-value pairs, and whether we need further type conversions from strings to numbers, or not. \n",
    "\n",
    "The following code snippet demonstrates these typing differences."
   ]
  },
  {
   "cell_type": "code",
   "execution_count": 43,
   "metadata": {},
   "outputs": [
    {
     "name": "stdout",
     "output_type": "stream",
     "text": [
      "Analysis of the SQL result types - first whole result, then just first entry:\n",
      "<class 'list'>\n",
      "[('ec', '409017', 45.693602836879435, 27.900999999999996), ('disc', '219018', 0.21870312500000005, 1.731), ('temp', '409017', 20.218957446808513, 15.309000000000001), ('disc', '409017', 8000.46732394366, 12058.411999999998), ('levl', '409204C', 0.9073706293706291, 0.706), ('ec', '409204C', 53.095713286713305, 45.032000000000004), ('disvol', '409204C', 4057.068832167832, 4204.943), ('disvol', '219018', 0.20463934426229508, 1.996), ('levl', '409017', 2.3529503546099293, 1.3800000000000001), ('temp', '409204C', 21.422454545454546, 16.048000000000002), ('disvol', '409017', 8045.934453900703, 11789.634), ('levl', '219018', 0.020918032786885248, 0.46699999999999997), ('disc', '409204C', 4050.6039370629364, 4218.918000000001)]\n",
      "<class 'tuple'>\n",
      "('ec', '409017', 45.693602836879435, 27.900999999999996)\n",
      "<class 'str'>\n",
      "ec\n",
      "Analysis of the CSV result types - first whole result, then just first entry:\n",
      "<class 'list'>\n",
      "[OrderedDict([('sensor', 'levl'), ('description', 'Level - Stream Water (Gauge Height)'), ('metric', 'meter')]), OrderedDict([('sensor', 'temp'), ('description', 'Water Temperature'), ('metric', 'celsius')]), OrderedDict([('sensor', 'disc'), ('description', 'Discharge Rate'), ('metric', 'ML/d')]), OrderedDict([('sensor', 'disvol'), ('description', 'Discharge Volume'), ('metric', 'ML')]), OrderedDict([('sensor', 'ph'), ('description', 'pH Value'), ('metric', 'pH')]), OrderedDict([('sensor', 'ec25'), ('description', 'Electrical Conductivity @25 C'), ('metric', 'us/cm')]), OrderedDict([('sensor', 'ec'), ('description', 'Electrical Conductivity (uncorrected)'), ('metric', 'us/cm')])]\n",
      "<class 'collections.OrderedDict'>\n",
      "OrderedDict([('sensor', 'levl'), ('description', 'Level - Stream Water (Gauge Height)'), ('metric', 'meter')])\n",
      "<class 'str'>\n",
      "meter\n"
     ]
    },
    {
     "ename": "KeyError",
     "evalue": "0",
     "output_type": "error",
     "traceback": [
      "\u001b[1;31m---------------------------------------------------------------------------\u001b[0m",
      "\u001b[1;31mKeyError\u001b[0m                                  Traceback (most recent call last)",
      "\u001b[1;32m<ipython-input-43-ca223d5852b0>\u001b[0m in \u001b[0;36m<module>\u001b[1;34m()\u001b[0m\n\u001b[0;32m     19\u001b[0m \u001b[0mprint\u001b[0m\u001b[1;33m(\u001b[0m \u001b[0mtype\u001b[0m\u001b[1;33m(\u001b[0m\u001b[0mdata_measurements\u001b[0m\u001b[1;33m[\u001b[0m\u001b[1;36m0\u001b[0m\u001b[1;33m]\u001b[0m\u001b[1;33m[\u001b[0m\u001b[1;34m'metric'\u001b[0m\u001b[1;33m]\u001b[0m\u001b[1;33m)\u001b[0m \u001b[1;33m)\u001b[0m\u001b[1;33m\u001b[0m\u001b[0m\n\u001b[0;32m     20\u001b[0m \u001b[0mprint\u001b[0m\u001b[1;33m(\u001b[0m\u001b[0mdata_measurements\u001b[0m\u001b[1;33m[\u001b[0m\u001b[1;36m0\u001b[0m\u001b[1;33m]\u001b[0m\u001b[1;33m[\u001b[0m\u001b[1;34m'metric'\u001b[0m\u001b[1;33m]\u001b[0m\u001b[1;33m)\u001b[0m \u001b[1;31m# we need to know the attribute key\u001b[0m\u001b[1;33m\u001b[0m\u001b[0m\n\u001b[1;32m---> 21\u001b[1;33m \u001b[0mprint\u001b[0m\u001b[1;33m(\u001b[0m\u001b[0mdata_measurements\u001b[0m\u001b[1;33m[\u001b[0m\u001b[1;36m0\u001b[0m\u001b[1;33m]\u001b[0m\u001b[1;33m[\u001b[0m\u001b[1;36m0\u001b[0m\u001b[1;33m]\u001b[0m\u001b[1;33m)\u001b[0m \u001b[1;31m# does not work!\u001b[0m\u001b[1;33m\u001b[0m\u001b[0m\n\u001b[0m",
      "\u001b[1;31mKeyError\u001b[0m: 0"
     ]
    }
   ],
   "source": [
    "# here the type and content analysed for the SQL query result from above\n",
    "print(\"Analysis of the SQL result types - first whole result, then just first entry:\")\n",
    "print( type(query_result) )\n",
    "print( query_result )\n",
    "print( type(query_result[0]) )\n",
    "print( query_result[0] )\n",
    "print( type(query_result[0][0]) )\n",
    "print( query_result[0][0] )\n",
    "\n",
    "# and now for comaprison the type and values read from the raw CSV file\n",
    "import csv\n",
    "data_measurements = list(csv.DictReader(open('Sensors.csv')))\n",
    "\n",
    "print(\"Analysis of the CSV result types - first whole result, then just first entry:\")\n",
    "print( type(data_measurements) )\n",
    "print(data_measurements)\n",
    "print( type(data_measurements[0]) )\n",
    "print(data_measurements[0])\n",
    "print( type(data_measurements[0]['metric']) )\n",
    "print(data_measurements[0]['metric']) # we need to know the attribute key\n",
    "print(data_measurements[0][0]) # does not work!\n"
   ]
  },
  {
   "cell_type": "markdown",
   "metadata": {},
   "source": [
    "You can read data from a database also into a dictionary, where the keys of each value will be the attribute names from the database schema. This needs a special kind of SQL cursor, a so-called dictionary cursor, which uses the attribute names from the database schema as column keys. The previusly introduced *pgquery()* function allows to pass a 'returntype' argument with which we can control its return type. It controls just a small code variation in how the query cursor is opened. If you set this parameter value to 'dict', we will get the query result as a Python dictionary (dict) returned."
   ]
  },
  {
   "cell_type": "code",
   "execution_count": 44,
   "metadata": {},
   "outputs": [
    {
     "name": "stdout",
     "output_type": "stream",
     "text": [
      "connected\n",
      "[{'sensor': 'disc', 'count': 413}, {'sensor': 'ec', 'count': 284}, {'sensor': 'temp', 'count': 284}, {'sensor': 'levl', 'count': 406}, {'sensor': 'disvol', 'count': 406}]\n",
      "{'sensor': 'disc', 'count': 413}\n",
      "{'sensor': 'ec', 'count': 284}\n",
      "{'sensor': 'temp', 'count': 284}\n",
      "{'sensor': 'levl', 'count': 406}\n",
      "{'sensor': 'disvol', 'count': 406}\n"
     ]
    }
   ],
   "source": [
    "# connect to your database\n",
    "conn = pgconnect()\n",
    "    \n",
    "# prepare SQL statement\n",
    "query_stmt =\"\"\"SELECT sensor, COUNT(*)\n",
    "            FROM Measurement\n",
    "               GROUP BY sensor;\"\"\"\n",
    "# execute query and print result\n",
    "query_result = pgquery (conn, query_stmt, None, returntype='dict')\n",
    "print(query_result)\n",
    "for r in query_result:\n",
    "    print(r)\n",
    "# cleanup\n",
    "conn.close()\n",
    "\n"
   ]
  },
  {
   "cell_type": "markdown",
   "metadata": {},
   "source": [
    "\n",
    "## EXERCISE 3:  Data Visualisation of Query Results\n",
    "\n",
    "Next we want to do some data visualisation with data read from a SQL database.\n",
    "\n",
    "The **make_plot()** function below will take any query result and turn it into either a simple bar chart, or a scatter plot. Which one you can control with the last 'categorica' argument which schould be True for a bar chart, otherwise false."
   ]
  },
  {
   "cell_type": "code",
   "execution_count": 45,
   "metadata": {
    "collapsed": true
   },
   "outputs": [],
   "source": [
    "%matplotlib inline\n",
    "import matplotlib.pyplot as plt\n",
    "import numpy as np\n",
    "\n",
    "def make_plot(data, x_key, y_key, title, xlabel=None, ylabel=None, bar_width=0.5, categorical=True):\n",
    "    xlabel = xlabel or x_key\n",
    "    ylabel = ylabel or y_key\n",
    "    xs = [row[x_key] for row in data]\n",
    "    ys = [row[y_key] for row in data]\n",
    "    \n",
    "    if categorical:\n",
    "        plt.bar(range(len(data)), ys, width=bar_width)\n",
    "        plt.xticks(np.arange(len(data))+bar_width/2., xs)\n",
    "    else:\n",
    "        plt.scatter(xs, ys)\n",
    "\n",
    "    plt.title(title)\n",
    "    plt.ylabel(ylabel)\n",
    "    plt.xlabel(xlabel)\n",
    "    plt.show()"
   ]
  },
  {
   "cell_type": "markdown",
   "metadata": {},
   "source": [
    "Let's now use this function to plot our previous query result in first a bar chart, and then a scatter plot of the 'sensor' value versus the 'count' ."
   ]
  },
  {
   "cell_type": "code",
   "execution_count": 46,
   "metadata": {},
   "outputs": [
    {
     "name": "stdout",
     "output_type": "stream",
     "text": [
      "connected\n",
      "[{'sensor': 'disc', 'count': 413}, {'sensor': 'ec', 'count': 284}, {'sensor': 'temp', 'count': 284}, {'sensor': 'levl', 'count': 406}, {'sensor': 'disvol', 'count': 406}]\n",
      "{'sensor': 'disc', 'count': 413}\n",
      "{'sensor': 'ec', 'count': 284}\n",
      "{'sensor': 'temp', 'count': 284}\n",
      "{'sensor': 'levl', 'count': 406}\n",
      "{'sensor': 'disvol', 'count': 406}\n"
     ]
    },
    {
     "data": {
      "image/png": "[encoded data removed]",
      "text/plain": [
       "<matplotlib.figure.Figure at 0x25b30a0e320>"
      ]
     },
     "metadata": {},
     "output_type": "display_data"
    }
   ],
   "source": [
    "\n",
    " # connect to your database\n",
    "conn = pgconnect()\n",
    "    \n",
    "# prepare SQL statement\n",
    "query_stmt =\"\"\"SELECT sensor, COUNT(*)\n",
    "            FROM Measurement\n",
    "               GROUP BY sensor;\"\"\"\n",
    "# execute query and print result\n",
    "query_result = pgquery (conn, query_stmt, None, returntype='dict')\n",
    "print(query_result)\n",
    "for r in query_result:\n",
    "    print(r)\n",
    "# cleanup\n",
    "conn.close()\n",
    "\n",
    "make_plot(\n",
    "    query_result,\n",
    "    x_key='sensor',\n",
    "    y_key='count',\n",
    "    title='Sensor Measurements',\n",
    "    categorical=True)"
   ]
  },
  {
   "cell_type": "code",
   "execution_count": 47,
   "metadata": {},
   "outputs": [
    {
     "name": "stdout",
     "output_type": "stream",
     "text": [
      "connected\n",
      "[{'station': '409017', 'date': datetime.date(2005, 5, 22), 'sensor': 'temp', 'value': 11.585}, {'station': '409204C', 'date': datetime.date(2005, 5, 22), 'sensor': 'temp', 'value': 13.95}, {'station': '409017', 'date': datetime.date(2005, 5, 21), 'sensor': 'temp', 'value': 11.583}, {'station': '409204C', 'date': datetime.date(2005, 5, 21), 'sensor': 'temp', 'value': 14.04}, {'station': '409204C', 'date': datetime.date(2005, 5, 20), 'sensor': 'temp', 'value': 14.058}, {'station': '409017', 'date': datetime.date(2005, 5, 20), 'sensor': 'temp', 'value': 11.454}, {'station': '409017', 'date': datetime.date(2005, 5, 19), 'sensor': 'temp', 'value': 10.983}, {'station': '409204C', 'date': datetime.date(2005, 5, 19), 'sensor': 'temp', 'value': 13.85}, {'station': '409017', 'date': datetime.date(2005, 5, 18), 'sensor': 'temp', 'value': 11.011}, {'station': '409204C', 'date': datetime.date(2005, 5, 18), 'sensor': 'temp', 'value': 13.815}, {'station': '409017', 'date': datetime.date(2005, 5, 17), 'sensor': 'temp', 'value': 11.971}, {'station': '409204C', 'date': datetime.date(2005, 5, 17), 'sensor': 'temp', 'value': 13.862}, {'station': '409017', 'date': datetime.date(2005, 5, 16), 'sensor': 'temp', 'value': 13.187}, {'station': '409204C', 'date': datetime.date(2005, 5, 16), 'sensor': 'temp', 'value': 14.198}, {'station': '409017', 'date': datetime.date(2005, 5, 15), 'sensor': 'temp', 'value': 12.888}, {'station': '409204C', 'date': datetime.date(2005, 5, 15), 'sensor': 'temp', 'value': 13.851}, {'station': '409017', 'date': datetime.date(2005, 5, 14), 'sensor': 'temp', 'value': 12.677}, {'station': '409204C', 'date': datetime.date(2005, 5, 14), 'sensor': 'temp', 'value': 13.757}, {'station': '409017', 'date': datetime.date(2005, 5, 13), 'sensor': 'temp', 'value': 12.571}, {'station': '409204C', 'date': datetime.date(2005, 5, 13), 'sensor': 'temp', 'value': 13.792}, {'station': '409017', 'date': datetime.date(2005, 5, 12), 'sensor': 'temp', 'value': 12.877}, {'station': '409204C', 'date': datetime.date(2005, 5, 12), 'sensor': 'temp', 'value': 14.017}, {'station': '409017', 'date': datetime.date(2005, 5, 11), 'sensor': 'temp', 'value': 12.958}, {'station': '409204C', 'date': datetime.date(2005, 5, 11), 'sensor': 'temp', 'value': 14.054}, {'station': '409017', 'date': datetime.date(2005, 5, 10), 'sensor': 'temp', 'value': 12.998}, {'station': '409204C', 'date': datetime.date(2005, 5, 10), 'sensor': 'temp', 'value': 14.104}, {'station': '409017', 'date': datetime.date(2005, 5, 9), 'sensor': 'temp', 'value': 12.873}, {'station': '409204C', 'date': datetime.date(2005, 5, 9), 'sensor': 'temp', 'value': 14.15}, {'station': '409017', 'date': datetime.date(2005, 5, 8), 'sensor': 'temp', 'value': 13.105}, {'station': '409204C', 'date': datetime.date(2005, 5, 8), 'sensor': 'temp', 'value': 14.019}, {'station': '409204C', 'date': datetime.date(2005, 5, 7), 'sensor': 'temp', 'value': 14.05}, {'station': '409017', 'date': datetime.date(2005, 5, 7), 'sensor': 'temp', 'value': 13.127}, {'station': '409017', 'date': datetime.date(2005, 5, 6), 'sensor': 'temp', 'value': 13.165}, {'station': '409204C', 'date': datetime.date(2005, 5, 6), 'sensor': 'temp', 'value': 14.25}, {'station': '409017', 'date': datetime.date(2005, 5, 5), 'sensor': 'temp', 'value': 13.06}, {'station': '409204C', 'date': datetime.date(2005, 5, 5), 'sensor': 'temp', 'value': 14.373}, {'station': '409017', 'date': datetime.date(2005, 5, 4), 'sensor': 'temp', 'value': 12.99}, {'station': '409204C', 'date': datetime.date(2005, 5, 4), 'sensor': 'temp', 'value': 14.483}, {'station': '409017', 'date': datetime.date(2005, 5, 3), 'sensor': 'temp', 'value': 12.777}, {'station': '409204C', 'date': datetime.date(2005, 5, 3), 'sensor': 'temp', 'value': 14.453}, {'station': '409017', 'date': datetime.date(2005, 5, 2), 'sensor': 'temp', 'value': 12.494}, {'station': '409204C', 'date': datetime.date(2005, 5, 2), 'sensor': 'temp', 'value': 14.642}, {'station': '409017', 'date': datetime.date(2005, 5, 1), 'sensor': 'temp', 'value': 11.841}, {'station': '409204C', 'date': datetime.date(2005, 5, 1), 'sensor': 'temp', 'value': 14.35}, {'station': '409017', 'date': datetime.date(2005, 4, 30), 'sensor': 'temp', 'value': 11.939}, {'station': '409204C', 'date': datetime.date(2005, 4, 30), 'sensor': 'temp', 'value': 14.056}, {'station': '409017', 'date': datetime.date(2005, 4, 29), 'sensor': 'temp', 'value': 12.341}, {'station': '409204C', 'date': datetime.date(2005, 4, 29), 'sensor': 'temp', 'value': 14.317}, {'station': '409204C', 'date': datetime.date(2005, 4, 28), 'sensor': 'temp', 'value': 14.722}, {'station': '409017', 'date': datetime.date(2005, 4, 28), 'sensor': 'temp', 'value': 13.436}, {'station': '409017', 'date': datetime.date(2005, 4, 27), 'sensor': 'temp', 'value': 14.251}, {'station': '409204C', 'date': datetime.date(2005, 4, 27), 'sensor': 'temp', 'value': 14.909}, {'station': '409017', 'date': datetime.date(2005, 4, 26), 'sensor': 'temp', 'value': 15.157}, {'station': '409204C', 'date': datetime.date(2005, 4, 26), 'sensor': 'temp', 'value': 15.771}, {'station': '409017', 'date': datetime.date(2005, 4, 25), 'sensor': 'temp', 'value': 15.91}, {'station': '409204C', 'date': datetime.date(2005, 4, 25), 'sensor': 'temp', 'value': 16.908}, {'station': '409204C', 'date': datetime.date(2005, 4, 24), 'sensor': 'temp', 'value': 17.49}, {'station': '409017', 'date': datetime.date(2005, 4, 24), 'sensor': 'temp', 'value': 15.901}, {'station': '409017', 'date': datetime.date(2005, 4, 23), 'sensor': 'temp', 'value': 16.318}, {'station': '409204C', 'date': datetime.date(2005, 4, 23), 'sensor': 'temp', 'value': 17.641}, {'station': '409017', 'date': datetime.date(2005, 4, 22), 'sensor': 'temp', 'value': 16.63}, {'station': '409204C', 'date': datetime.date(2005, 4, 22), 'sensor': 'temp', 'value': 17.842}, {'station': '409017', 'date': datetime.date(2005, 4, 21), 'sensor': 'temp', 'value': 16.747}, {'station': '409204C', 'date': datetime.date(2005, 4, 21), 'sensor': 'temp', 'value': 17.867}, {'station': '409017', 'date': datetime.date(2005, 4, 20), 'sensor': 'temp', 'value': 17.152}, {'station': '409204C', 'date': datetime.date(2005, 4, 20), 'sensor': 'temp', 'value': 17.792}, {'station': '409017', 'date': datetime.date(2005, 4, 19), 'sensor': 'temp', 'value': 16.925}, {'station': '409204C', 'date': datetime.date(2005, 4, 19), 'sensor': 'temp', 'value': 17.758}, {'station': '409017', 'date': datetime.date(2005, 4, 18), 'sensor': 'temp', 'value': 16.983}, {'station': '409204C', 'date': datetime.date(2005, 4, 18), 'sensor': 'temp', 'value': 17.808}, {'station': '409017', 'date': datetime.date(2005, 4, 17), 'sensor': 'temp', 'value': 17.437}, {'station': '409204C', 'date': datetime.date(2005, 4, 17), 'sensor': 'temp', 'value': 17.875}, {'station': '409017', 'date': datetime.date(2005, 4, 16), 'sensor': 'temp', 'value': 17.324}, {'station': '409204C', 'date': datetime.date(2005, 4, 16), 'sensor': 'temp', 'value': 17.8}, {'station': '409017', 'date': datetime.date(2005, 4, 15), 'sensor': 'temp', 'value': 18.1}, {'station': '409204C', 'date': datetime.date(2005, 4, 15), 'sensor': 'temp', 'value': 18.451}, {'station': '409017', 'date': datetime.date(2005, 4, 14), 'sensor': 'temp', 'value': 18.615}, {'station': '409204C', 'date': datetime.date(2005, 4, 14), 'sensor': 'temp', 'value': 19.117}, {'station': '409017', 'date': datetime.date(2005, 4, 13), 'sensor': 'temp', 'value': 18.693}, {'station': '409204C', 'date': datetime.date(2005, 4, 13), 'sensor': 'temp', 'value': 19.158}, {'station': '409017', 'date': datetime.date(2005, 4, 12), 'sensor': 'temp', 'value': 18.731}, {'station': '409204C', 'date': datetime.date(2005, 4, 12), 'sensor': 'temp', 'value': 19.212}, {'station': '409204C', 'date': datetime.date(2005, 4, 11), 'sensor': 'temp', 'value': 19.175}, {'station': '409017', 'date': datetime.date(2005, 4, 11), 'sensor': 'temp', 'value': 18.807}, {'station': '409017', 'date': datetime.date(2005, 4, 10), 'sensor': 'temp', 'value': 19.017}, {'station': '409204C', 'date': datetime.date(2005, 4, 10), 'sensor': 'temp', 'value': 19.183}, {'station': '409204C', 'date': datetime.date(2005, 4, 9), 'sensor': 'temp', 'value': 18.816}, {'station': '409204C', 'date': datetime.date(2005, 4, 8), 'sensor': 'temp', 'value': 18.604}, {'station': '409017', 'date': datetime.date(2005, 4, 7), 'sensor': 'temp', 'value': 19.925}, {'station': '409204C', 'date': datetime.date(2005, 4, 7), 'sensor': 'temp', 'value': 18.583}, {'station': '409017', 'date': datetime.date(2005, 4, 6), 'sensor': 'temp', 'value': 20.281}, {'station': '409204C', 'date': datetime.date(2005, 4, 6), 'sensor': 'temp', 'value': 19.157}, {'station': '409017', 'date': datetime.date(2005, 4, 5), 'sensor': 'temp', 'value': 20.715}, {'station': '409204C', 'date': datetime.date(2005, 4, 5), 'sensor': 'temp', 'value': 20.125}, {'station': '409017', 'date': datetime.date(2005, 4, 4), 'sensor': 'temp', 'value': 21.125}, {'station': '409204C', 'date': datetime.date(2005, 4, 4), 'sensor': 'temp', 'value': 20.633}, {'station': '409017', 'date': datetime.date(2005, 4, 3), 'sensor': 'temp', 'value': 21.569}, {'station': '409204C', 'date': datetime.date(2005, 4, 3), 'sensor': 'temp', 'value': 22.102}, {'station': '409017', 'date': datetime.date(2005, 4, 2), 'sensor': 'temp', 'value': 21.505}, {'station': '409204C', 'date': datetime.date(2005, 4, 2), 'sensor': 'temp', 'value': 22.194}, {'station': '409204C', 'date': datetime.date(2005, 4, 1), 'sensor': 'temp', 'value': 21.833}, {'station': '409017', 'date': datetime.date(2005, 4, 1), 'sensor': 'temp', 'value': 21.167}]\n"
     ]
    },
    {
     "data": {
      "image/png": "[encoded data removed]",
      "text/plain": [
       "<matplotlib.figure.Figure at 0x25b32d89978>"
      ]
     },
     "metadata": {},
     "output_type": "display_data"
    }
   ],
   "source": [
    "\n",
    "\n",
    "# connect to your database\n",
    "conn = pgconnect()\n",
    "    \n",
    "# prepare SQL statement\n",
    "query_stmt =\"\"\"SELECT * FROM  Measurement WHERE sensor = 'temp' AND extract(month from date) BETWEEN 4 AND 5 ORDER BY date DESC\"\"\"\n",
    "# execute query and print result\n",
    "query_result = pgquery (conn, query_stmt, None, returntype='dict')\n",
    "print(query_result)\n",
    "\n",
    "# cleanup\n",
    "conn.close()\n",
    "\n",
    "\n",
    "make_plot(\n",
    "    query_result,\n",
    "    x_key='value',\n",
    "    y_key='date',\n",
    "    title='Temp Sensor',\n",
    "    categorical=False)"
   ]
  },
  {
   "cell_type": "markdown",
   "metadata": {},
   "source": [
    "Note: The code above assumes that you have the query_result from the previous query in a *dict()* type. However the **make_plot()** function would work with a list of tuples too. In this case, simply provide the positional values of the x- and y-attributes for *x_key* and *y_key* (like for example 0 and 1)."
   ]
  },
  {
   "cell_type": "markdown",
   "metadata": {},
   "source": [
    "## YOUR TASK:\n",
    "\n",
    "Next visualise something more interesting, for example visualise the result of the following sql query:\n",
    "<pre>\n",
    "SELECT sensor, COUNT(DISTINCT station)\n",
    "  FROM Measurement\n",
    " GROUP BY sensor\n",
    " ORDER BY count DESC;\n",
    "</pre>\n",
    "\n",
    "\n",
    "Try out some other code examples from Week 3 that visualises the data read from the SQL database. "
   ]
  },
  {
   "cell_type": "code",
   "execution_count": null,
   "metadata": {
    "collapsed": true
   },
   "outputs": [],
   "source": [
    "# TODO: replace the content of this cell with your Pythoin+SQL solution\n",
    "raise NotImplementedError"
   ]
  },
  {
   "cell_type": "markdown",
   "metadata": {},
   "source": [
    "# That's it for today. THANKS."
   ]
  }
 ],
 "metadata": {
  "kernelspec": {
   "display_name": "Python 3",
   "language": "python",
   "name": "python3"
  },
  "language_info": {
   "codemirror_mode": {
    "name": "ipython",
    "version": 3
   },
   "file_extension": ".py",
   "mimetype": "text/x-python",
   "name": "python",
   "nbconvert_exporter": "python",
   "pygments_lexer": "ipython3",
   "version": "3.6.1"
  }
 },
 "nbformat": 4,
 "nbformat_minor": 1
}
